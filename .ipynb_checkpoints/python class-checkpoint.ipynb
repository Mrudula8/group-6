{
 "metadata": {
  "name": "",
  "signature": "sha256:2f6669fe35ec1ce3884d6728a8990d59b568231537e6702a6d6e8158a2e60a44"
 },
 "nbformat": 3,
 "nbformat_minor": 0,
 "worksheets": [
  {
   "cells": [
    {
     "cell_type": "code",
     "collapsed": false,
     "input": [
      "#right associativity:assignment operators,**\n",
      "#start with digit or '_' and it must contain only letters,digits,'_'\n"
     ],
     "language": "python",
     "metadata": {},
     "outputs": []
    },
    {
     "cell_type": "raw",
     "metadata": {},
     "source": [
      "Python 3.5.2 (default, Nov 17 2016, 17:05:23) \n",
      "[GCC 5.4.0 20160609] on linux\n",
      "Type \"help\", \"copyright\", \"credits\" or \"license\" for more information.\n",
      ">>> \"Hello\"\n",
      "'Hello'\n",
      ">>> \"X\\nX\"\n",
      "'X\\nX'\n",
      ">>> \"\\\"z\\\"\"\n",
      "'\"z\"'\n",
      ">>> [4]\n",
      "[4]\n",
      ">>> []\n",
      "[]\n",
      ">>> [4,True,'a']\n",
      "[4, True, 'a']\n",
      ">>> [4,True,'a',len]\n",
      "[4, True, 'a', <built-in function len>]\n",
      ">>> len([4,True,len])\n",
      "3\n",
      ">>> [1,[2,3,4],5]\n",
      "[1, [2, 3, 4], 5]\n",
      ">>> len([1,[2,3,4],5])\n",
      "3\n",
      ">>> items=[1,\"True\",\"ab\",5.0]\n",
      ">>> items[0]\n",
      "1\n",
      ">>> items[1:]\n",
      "['True', 'ab', 5.0]\n",
      ">>> 8*7\n",
      "56\n",
      ">>> 2.1234689076574352\n",
      "2.1234689076574353\n",
      ">>> 2.12346890765743529\n",
      "2.1234689076574353\n",
      ">>> 15/5\n",
      "3.0\n",
      ">>> 14+4\n",
      "18\n",
      ">>> 7-6\n",
      "1\n",
      ">>> \"Hello\"+\"World\"\n",
      "'HelloWorld'\n",
      ">>> 2+\"Hello\"\n",
      "Traceback (most recent call last):\n",
      "  File \"<stdin>\", line 1, in <module>\n",
      "TypeError: unsupported operand type(s) for +: 'int' and 'str'\n",
      ">>> \"Hello\"+2\n",
      "Traceback (most recent call last):\n",
      "  File \"<stdin>\", line 1, in <module>\n",
      "TypeError: Can't convert 'int' object to str implicitly\n",
      ">>> \"Hello\"+\"2\"\n",
      "'Hello2'\n",
      ">>> \"Hello\"*3\n",
      "'HelloHelloHello'\n",
      ">>> [1,2]*3\n",
      "[1, 2, 1, 2, 1, 2]\n",
      ">>> 3.5*\"Hello\"\n",
      "Traceback (most recent call last):\n",
      "  File \"<stdin>\", line 1, in <module>\n",
      "TypeError: can't multiply sequence by non-int of type 'float'\n",
      ">>> 15/2\n",
      "7.5\n",
      ">>> 15//3\n",
      "5\n",
      ">>> 3**4\n",
      "81\n",
      ">>> 10-8-2-4\n",
      "-4\n",
      ">>> \n"
     ]
    },
    {
     "cell_type": "code",
     "collapsed": false,
     "input": [
      "#counter=0\n",
      "#counter+=1\n",
      "# This is Throw-away pattern because the value is not sorted. "
     ],
     "language": "python",
     "metadata": {},
     "outputs": []
    },
    {
     "cell_type": "code",
     "collapsed": false,
     "input": [
      "#Short-circuiting\n",
      "#x!=0 and y/x>1\n",
      "#If first statement is false, then there is no possibility of checking of second statement if there is 'and' in b/w\n",
      "#statements"
     ],
     "language": "python",
     "metadata": {},
     "outputs": []
    },
    {
     "cell_type": "code",
     "collapsed": false,
     "input": [
      "def y():\n",
      "    m=5\n",
      "    c=3\n",
      "    x=2\n",
      "    return m*x+c\n",
      "\n",
      "print(y())\n"
     ],
     "language": "python",
     "metadata": {},
     "outputs": [
      {
       "output_type": "stream",
       "stream": "stdout",
       "text": [
        "13\n"
       ]
      }
     ],
     "prompt_number": 9
    },
    {
     "cell_type": "code",
     "collapsed": false,
     "input": [
      "print(y(3))\n",
      "#since in function we did not pass any argument"
     ],
     "language": "python",
     "metadata": {},
     "outputs": [
      {
       "ename": "TypeError",
       "evalue": "y() takes no arguments (1 given)",
       "output_type": "pyerr",
       "traceback": [
        "\u001b[0;31m---------------------------------------------------------------------------\u001b[0m\n\u001b[0;31mTypeError\u001b[0m                                 Traceback (most recent call last)",
        "\u001b[0;32m<ipython-input-10-52e3dab8ecf9>\u001b[0m in \u001b[0;36m<module>\u001b[0;34m()\u001b[0m\n\u001b[0;32m----> 1\u001b[0;31m \u001b[0;32mprint\u001b[0m\u001b[0;34m(\u001b[0m\u001b[0my\u001b[0m\u001b[0;34m(\u001b[0m\u001b[0;36m3\u001b[0m\u001b[0;34m)\u001b[0m\u001b[0;34m)\u001b[0m\u001b[0;34m\u001b[0m\u001b[0m\n\u001b[0m",
        "\u001b[0;31mTypeError\u001b[0m: y() takes no arguments (1 given)"
       ]
      }
     ],
     "prompt_number": 10
    },
    {
     "cell_type": "code",
     "collapsed": false,
     "input": [
      "def y(m,c,x):\n",
      "    return m*x+c\n",
      "y(5,-3,1)"
     ],
     "language": "python",
     "metadata": {},
     "outputs": [
      {
       "metadata": {},
       "output_type": "pyout",
       "prompt_number": 11,
       "text": [
        "2"
       ]
      }
     ],
     "prompt_number": 11
    },
    {
     "cell_type": "code",
     "collapsed": false,
     "input": [
      "def makeline(m,c):\n",
      "    def y(x):\n",
      "        return m*x+c\n",
      "    return y\n",
      "a=makeline(5,-3)\n",
      "b=makeline(2,-3)\n",
      "print(b(1))\n",
      "print(a(1))"
     ],
     "language": "python",
     "metadata": {},
     "outputs": [
      {
       "output_type": "stream",
       "stream": "stdout",
       "text": [
        "-1\n",
        "2\n"
       ]
      }
     ],
     "prompt_number": 26
    },
    {
     "cell_type": "code",
     "collapsed": false,
     "input": [
      "def square(x):\n",
      "    return x*x\n",
      "\n",
      "y=square(4)\n",
      "z=square(square(6))\n",
      "print(y,z)"
     ],
     "language": "python",
     "metadata": {},
     "outputs": [
      {
       "output_type": "stream",
       "stream": "stdout",
       "text": [
        "(16, 1296)\n"
       ]
      }
     ],
     "prompt_number": 27
    },
    {
     "cell_type": "code",
     "collapsed": false,
     "input": [
      "def psquare(x):\n",
      "    return x*x\n",
      "y=psquare(5)\n",
      "print(y)\n"
     ],
     "language": "python",
     "metadata": {},
     "outputs": [
      {
       "output_type": "stream",
       "stream": "stdout",
       "text": [
        "25\n"
       ]
      }
     ],
     "prompt_number": 21
    },
    {
     "cell_type": "code",
     "collapsed": false,
     "input": [
      "#Try and Catch:\n",
      "#To deduct errors like something divided by 0,and other errors etc\n",
      "#In python, we can use exception instead of catch\n",
      "#strip command:removes extra spaces.\n",
      "#Capitalize:Converts first character to uppercase.\n",
      "#random.choice():any randm number is created."
     ],
     "language": "python",
     "metadata": {},
     "outputs": []
    },
    {
     "cell_type": "code",
     "collapsed": false,
     "input": [
      "#Eval\n",
      "#Converts integer to integer\n",
      "#Converts real No. to real No.\n",
      "#Converts string to string"
     ],
     "language": "python",
     "metadata": {},
     "outputs": []
    },
    {
     "cell_type": "raw",
     "metadata": {},
     "source": []
    },
    {
     "cell_type": "code",
     "collapsed": false,
     "input": [
      "print(eval(\"3+5\"))"
     ],
     "language": "python",
     "metadata": {},
     "outputs": [
      {
       "output_type": "stream",
       "stream": "stdout",
       "text": [
        "8\n"
       ]
      }
     ],
     "prompt_number": 22
    },
    {
     "cell_type": "code",
     "collapsed": false,
     "input": [
      "import sys\n",
      "def main():\n",
      "    print(sys.argv)\n",
      "main()"
     ],
     "language": "python",
     "metadata": {},
     "outputs": [
      {
       "output_type": "stream",
       "stream": "stdout",
       "text": [
        "['-c', '-f', '/home/lenovo/.ipython/profile_default/security/kernel-a28956a3-60a4-41d6-8340-a7ed7fe3effd.json', \"--IPKernelApp.parent_appname='ipython-notebook'\", '--profile-dir', '/home/lenovo/.ipython/profile_default', '--parent=1']\n"
       ]
      }
     ],
     "prompt_number": 23
    },
    {
     "cell_type": "code",
     "collapsed": false,
     "input": [
      "fp=open(\"Data\",\"r\")\n",
      "x=fp.read()\n",
      "y=fp.readline()\n",
      "fp.close()"
     ],
     "language": "python",
     "metadata": {},
     "outputs": [
      {
       "ename": "IOError",
       "evalue": "[Errno 2] No such file or directory: 'Data'",
       "output_type": "pyerr",
       "traceback": [
        "\u001b[0;31m---------------------------------------------------------------------------\u001b[0m\n\u001b[0;31mIOError\u001b[0m                                   Traceback (most recent call last)",
        "\u001b[0;32m<ipython-input-24-f11f4f0bab78>\u001b[0m in \u001b[0;36m<module>\u001b[0;34m()\u001b[0m\n\u001b[0;32m----> 1\u001b[0;31m \u001b[0mfp\u001b[0m\u001b[0;34m=\u001b[0m\u001b[0mopen\u001b[0m\u001b[0;34m(\u001b[0m\u001b[0;34m\"Data\"\u001b[0m\u001b[0;34m,\u001b[0m\u001b[0;34m\"r\"\u001b[0m\u001b[0;34m)\u001b[0m\u001b[0;34m\u001b[0m\u001b[0m\n\u001b[0m\u001b[1;32m      2\u001b[0m \u001b[0mx\u001b[0m\u001b[0;34m=\u001b[0m\u001b[0mfp\u001b[0m\u001b[0;34m.\u001b[0m\u001b[0mread\u001b[0m\u001b[0;34m(\u001b[0m\u001b[0;34m)\u001b[0m\u001b[0;34m\u001b[0m\u001b[0m\n\u001b[1;32m      3\u001b[0m \u001b[0my\u001b[0m\u001b[0;34m=\u001b[0m\u001b[0mfp\u001b[0m\u001b[0;34m.\u001b[0m\u001b[0mreadline\u001b[0m\u001b[0;34m(\u001b[0m\u001b[0;34m)\u001b[0m\u001b[0;34m\u001b[0m\u001b[0m\n\u001b[1;32m      4\u001b[0m \u001b[0mfp\u001b[0m\u001b[0;34m.\u001b[0m\u001b[0mclose\u001b[0m\u001b[0;34m(\u001b[0m\u001b[0;34m)\u001b[0m\u001b[0;34m\u001b[0m\u001b[0m\n",
        "\u001b[0;31mIOError\u001b[0m: [Errno 2] No such file or directory: 'Data'"
       ]
      }
     ],
     "prompt_number": 24
    },
    {
     "cell_type": "code",
     "collapsed": false,
     "input": [
      "#scanner:\n",
      "#s=Scanner(\"Data\")\n",
      "#a=s.readtoken()\n",
      "#print(a)\n",
      "#d=s.readstring()\n",
      "#d=\"Hello There\"\n",
      "#to remove quotes [1:-1]"
     ],
     "language": "python",
     "metadata": {},
     "outputs": []
    },
    {
     "cell_type": "code",
     "collapsed": false,
     "input": [
      "#        -----operands\n",
      "#       |\n",
      "#  --------------\n",
      "#|               |\n",
      "#8       *       7\n",
      "#^               ^\n",
      "#|               |\n",
      "#multiplicant    multiplier\n",
      "#56--->Product"
     ],
     "language": "python",
     "metadata": {},
     "outputs": []
    },
    {
     "cell_type": "code",
     "collapsed": false,
     "input": [
      "#        -----operands\n",
      "#       |\n",
      "#  --------------\n",
      "#|               |\n",
      "#15       +      5\n",
      "#^               ^\n",
      "#|               |\n",
      "#Augend      Addend\n",
      "#20--->Sum"
     ],
     "language": "python",
     "metadata": {},
     "outputs": []
    },
    {
     "cell_type": "raw",
     "metadata": {},
     "source": [
      ">>> a=\"abs\"\n",
      ">>> print a\n",
      "  File \"<stdin>\", line 1\n",
      "    print a\n",
      "          ^\n",
      "SyntaxError: Missing parentheses in call to 'print'\n",
      ">>> print(a)\n",
      "abs\n",
      ">>> a[-1]\n",
      "'s'\n",
      ">>> a[:]\n",
      "'abs'\n",
      ">>> a[:1]\n",
      "'a'\n",
      ">>> type(a)\n",
      "<class 'str'>\n",
      ">>> a[-1:]\n",
      "'s'\n",
      ">>> a[:-1:]\n",
      "'ab'\n",
      ">>> 4__3\n",
      "  File \"<stdin>\", line 1\n",
      "    4__3\n",
      "       ^\n",
      "SyntaxError: invalid syntax\n",
      ">>> 4--3\n",
      "7\n",
      ">>> a[1::-1]\n",
      "'ba'\n",
      ">>> x=2\n",
      ">>> if x==2:\n",
      "...   print(x+1,'sdf')\n",
      "... \n",
      "3 sdf\n",
      ">>> beta=3\n",
      ">>> alpha=10\n",
      ">>> beta=alpha\n",
      ">>> print(beta)\n",
      "10\n",
      "    ##This phenomena is called Transfer pattern.\n",
      ">>> counter=0\n",
      ">>> counter+=1\n",
      ">>> print(count)\n",
      "Traceback (most recent call last):\n",
      "  File \"<stdin>\", line 1, in <module>\n",
      "NameError: name 'count' is not defined\n",
      ">>> print(counter)\n",
      "1\n",
      ">>> import random\n",
      ">>> random.choice()\n",
      "Traceback (most recent call last):\n",
      "  File \"<stdin>\", line 1, in <module>\n",
      "TypeError: choice() missing 1 required positional argument: 'seq'\n",
      ">>> random.choice(2)\n",
      "Traceback (most recent call last):\n",
      "  File \"<stdin>\", line 1, in <module>\n",
      "  File \"/usr/lib/python3.5/random.py\", line 253, in choice\n",
      "    i = self._randbelow(len(seq))\n",
      "TypeError: object of type 'int' has no len()\n",
      ">>> random.choice(seq)\n",
      "Traceback (most recent call last):\n",
      "  File \"<stdin>\", line 1, in <module>\n",
      "NameError: name 'seq' is not defined\n",
      ">>> random.randint(0,7)\n",
      "7\n",
      ">>> import math\n",
      ">>> math.sin(30)\n",
      "-0.9880316240928618\n",
      ">>> dir(math)\n",
      "['__doc__', '__loader__', '__name__', '__package__', '__spec__', 'acos', 'acosh', 'asin', 'asinh', 'atan', 'atan2', 'atanh', 'ceil', 'copysign', 'cos', 'cosh', 'degrees', 'e', 'erf', 'erfc', 'exp', 'expm1', 'fabs', 'factorial', 'floor', 'fmod', 'frexp', 'fsum', 'gamma', 'gcd', 'hypot', 'inf', 'isclose', 'isfinite', 'isinf', 'isnan', 'ldexp', 'lgamma', 'log', 'log10', 'log1p', 'log2', 'modf', 'nan', 'pi', 'pow', 'radians', 'sin', 'sinh', 'sqrt', 'tan', 'tanh', 'trunc']\n",
      ">>> math.asin(30)\n",
      "Traceback (most recent call last):\n",
      "  File \"<stdin>\", line 1, in <module>\n",
      "ValueError: math domain error\n",
      ">>> a\n",
      "'abs'\n",
      ">>> b\n",
      "Traceback (most recent call last):\n",
      "  File \"<stdin>\", line 1, in <module>\n",
      "NameError: name 'b' is not defined\n",
      ">>> (14//5 *5)+(14%5)\n",
      "14\n",
      ">>> (14//5*5)+(14%5)\n",
      "14\n",
      ">>> 3>4\n",
      "False\n",
      ">>> \"apple\"<\"banana\"\n",
      "True\n",
      ">>> [1]==1\n",
      "False\n",
      ">>> [1]<1\n",
      "Traceback (most recent call last):\n",
      "  File \"<stdin>\", line 1, in <module>\n",
      "TypeError: unorderable types: list() < int()\n",
      ">>> [1]>1\n",
      "Traceback (most recent call last):\n",
      "  File \"<stdin>\", line 1, in <module>\n",
      "TypeError: unorderable types: list() > int()\n",
      ">>> [1]>99999\n",
      "Traceback (most recent call last):\n",
      "  File \"<stdin>\", line 1, in <module>\n",
      "TypeError: unorderable types: list() > int()\n",
      ">>> 1<'1'\n",
      "Traceback (most recent call last):\n",
      "  File \"<stdin>\", line 1, in <module>\n",
      "TypeError: unorderable types: int() < str()\n",
      ">>> 2**2**3\n",
      "256\n",
      ">>> 2**8\n",
      "256\n",
      ">>> print('c:/src/name')\n",
      "c:/src/name\n",
      ">>> print(r'c:/src/name')\n",
      "c:/src/name\n",
      ">>> print(True!=False)\n",
      "True\n",
      ">>> s=\"Hello\"\n",
      ">>> print(s.rjust(2))\n",
      "Hello\n",
      ">>> print(s.rjust(7))\n",
      "  Hello\n",
      ">>> print(abs(-4))\n",
      "4\n",
      ">>> print(eval(\"3\"+\"5\"))\n",
      "35\n",
      "    $$$$$$$$$$$$$$$$\n",
      ">>> print(eval(\"3+5\"))\n",
      "8\n",
      ">>> type(eval(\"3+5\"))\n",
      "<class 'int'>\n",
      ">>> print(1,2,3,sep=\"+\")\n",
      "1+2+3\n",
      ">>> print(1,2,3,sep=\"\")\n",
      "123\n",
      ">>> s=\"Hello\"\n",
      ">>> print(s,sep=\"\")\n",
      "Hello\n",
      ">>> print(\"\\\"+s+\"\\\")\n",
      "  File \"<stdin>\", line 1\n",
      "    print(\"\\\"+s+\"\\\")\n",
      "                   ^\n",
      "SyntaxError: unexpected character after line continuation character\n",
      ">>> print('\"\\\"'+s+'\"\\\"')\n",
      "\"\"Hello\"\"\n",
      ">>> print('\"\\\"'+s+'\"\\\"',sep=\"\")\n",
      "\"\"Hello\"\"\n",
      ">>> print('\\\"'+s+'\\\"',sep=\"\")\n",
      "\"Hello\"\n",
      ">>> print('\\\"'+s+'\\\"')\n",
      "\"Hello\"\n"
     ]
    },
    {
     "cell_type": "code",
     "collapsed": false,
     "input": [],
     "language": "python",
     "metadata": {},
     "outputs": []
    }
   ],
   "metadata": {}
  }
 ]
}